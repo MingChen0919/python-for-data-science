{
 "cells": [
  {
   "cell_type": "markdown",
   "metadata": {},
   "source": [
    "## Broadcasting and universal functions\n",
    "\n",
    "**Broadcasting** occurs when you apply an **universal function** to arrays that have different shapes. A **universal function** is a function that operates on **ndarrays** in an **element-wise** fashion. The operation requires that all **ndarrays** have the same shape after **broadcasting**."
   ]
  },
  {
   "cell_type": "markdown",
   "metadata": {},
   "source": [
    "## Broadcastable arrays\n",
    "\n",
    "Arrays are broadcastable when they\n",
    "1. have the **same number of dimensions** and the lenght of each dimensions is **either the same or 1**.\n",
    "2. have **different number of dimensions** but satify property 1 after **prepending** dimensions of length 1 to arrays that have less dimensions."
   ]
  },
  {
   "cell_type": "markdown",
   "metadata": {},
   "source": [
    "For example:\n",
    "* if **a.shape** is (5, 1) and **b.shape** is (5, 6), then **a** can be broadcasted to shape (5, 6).\n",
    "* if **a.shape** is (5, 3, 2) and **b.shape** is (3, 1) then\n",
    "    + **b** will be prepended a dimension of length 1 and shape becomes (1, 3, 1)\n",
    "    + after prepending operation, **b** can be broadcasted to shape (5, 3, 2)"
   ]
  },
  {
   "cell_type": "code",
   "execution_count": 1,
   "metadata": {
    "collapsed": true
   },
   "outputs": [],
   "source": [
    "import numpy as np"
   ]
  },
  {
   "cell_type": "markdown",
   "metadata": {},
   "source": [
    "**Example: a.shape is (5,1) and b.shape is (5, 6)**"
   ]
  },
  {
   "cell_type": "code",
   "execution_count": 2,
   "metadata": {},
   "outputs": [
    {
     "data": {
      "text/plain": [
       "array([[1],\n",
       "       [2],\n",
       "       [3],\n",
       "       [4],\n",
       "       [5]])"
      ]
     },
     "execution_count": 2,
     "metadata": {},
     "output_type": "execute_result"
    }
   ],
   "source": [
    "a = np.array([1,2,3,4,5]).reshape((5,1))\n",
    "a"
   ]
  },
  {
   "cell_type": "code",
   "execution_count": 3,
   "metadata": {},
   "outputs": [
    {
     "data": {
      "text/plain": [
       "array([[ 1.,  1.,  1.,  1.,  1.,  1.],\n",
       "       [ 1.,  1.,  1.,  1.,  1.,  1.],\n",
       "       [ 1.,  1.,  1.,  1.,  1.,  1.],\n",
       "       [ 1.,  1.,  1.,  1.,  1.,  1.],\n",
       "       [ 1.,  1.,  1.,  1.,  1.,  1.]])"
      ]
     },
     "execution_count": 3,
     "metadata": {},
     "output_type": "execute_result"
    }
   ],
   "source": [
    "b = np.ones(shape=(5,6))\n",
    "b"
   ]
  },
  {
   "cell_type": "markdown",
   "metadata": {},
   "source": [
    "For arithmetic operation **a + b**, **a** is broadcasted to"
   ]
  },
  {
   "cell_type": "code",
   "execution_count": 4,
   "metadata": {},
   "outputs": [
    {
     "data": {
      "text/plain": [
       "array([[1, 1, 1, 1, 1, 1],\n",
       "       [2, 2, 2, 2, 2, 2],\n",
       "       [3, 3, 3, 3, 3, 3],\n",
       "       [4, 4, 4, 4, 4, 4],\n",
       "       [5, 5, 5, 5, 5, 5]])"
      ]
     },
     "execution_count": 4,
     "metadata": {},
     "output_type": "execute_result"
    }
   ],
   "source": [
    "a.repeat(6, axis=1)"
   ]
  },
  {
   "cell_type": "code",
   "execution_count": 5,
   "metadata": {},
   "outputs": [
    {
     "data": {
      "text/plain": [
       "array([[ 2.,  2.,  2.,  2.,  2.,  2.],\n",
       "       [ 3.,  3.,  3.,  3.,  3.,  3.],\n",
       "       [ 4.,  4.,  4.,  4.,  4.,  4.],\n",
       "       [ 5.,  5.,  5.,  5.,  5.,  5.],\n",
       "       [ 6.,  6.,  6.,  6.,  6.,  6.]])"
      ]
     },
     "execution_count": 5,
     "metadata": {},
     "output_type": "execute_result"
    }
   ],
   "source": [
    "a + b"
   ]
  },
  {
   "cell_type": "markdown",
   "metadata": {},
   "source": [
    "**Example, x.shape is (5,3,2) and y.shape is (3,1)**"
   ]
  },
  {
   "cell_type": "code",
   "execution_count": 6,
   "metadata": {},
   "outputs": [
    {
     "data": {
      "text/plain": [
       "array([[[ 1.,  1.],\n",
       "        [ 1.,  1.],\n",
       "        [ 1.,  1.]],\n",
       "\n",
       "       [[ 1.,  1.],\n",
       "        [ 1.,  1.],\n",
       "        [ 1.,  1.]],\n",
       "\n",
       "       [[ 1.,  1.],\n",
       "        [ 1.,  1.],\n",
       "        [ 1.,  1.]],\n",
       "\n",
       "       [[ 1.,  1.],\n",
       "        [ 1.,  1.],\n",
       "        [ 1.,  1.]],\n",
       "\n",
       "       [[ 1.,  1.],\n",
       "        [ 1.,  1.],\n",
       "        [ 1.,  1.]]])"
      ]
     },
     "execution_count": 6,
     "metadata": {},
     "output_type": "execute_result"
    }
   ],
   "source": [
    "x = np.ones(shape=(5,3,2))\n",
    "x"
   ]
  },
  {
   "cell_type": "code",
   "execution_count": 7,
   "metadata": {},
   "outputs": [
    {
     "data": {
      "text/plain": [
       "array([[2],\n",
       "       [4],\n",
       "       [6]])"
      ]
     },
     "execution_count": 7,
     "metadata": {},
     "output_type": "execute_result"
    }
   ],
   "source": [
    "y = np.array([2,4,6]).reshape((3,1))\n",
    "y"
   ]
  },
  {
   "cell_type": "markdown",
   "metadata": {},
   "source": [
    "**For arithmetic operation x + y, y is first broadcasted to shape (3, 2)**"
   ]
  },
  {
   "cell_type": "code",
   "execution_count": 8,
   "metadata": {},
   "outputs": [
    {
     "data": {
      "text/plain": [
       "array([[2, 2],\n",
       "       [4, 4],\n",
       "       [6, 6]])"
      ]
     },
     "execution_count": 8,
     "metadata": {},
     "output_type": "execute_result"
    }
   ],
   "source": [
    "# broadcast (3,1) to (3,2)\n",
    "y.repeat(2, axis=1)"
   ]
  },
  {
   "cell_type": "markdown",
   "metadata": {},
   "source": [
    "**then broadcased to shape (5, 3, 2)**"
   ]
  },
  {
   "cell_type": "code",
   "execution_count": 9,
   "metadata": {},
   "outputs": [
    {
     "data": {
      "text/plain": [
       "array([[[2, 2],\n",
       "        [4, 4],\n",
       "        [6, 6]]])"
      ]
     },
     "execution_count": 9,
     "metadata": {},
     "output_type": "execute_result"
    }
   ],
   "source": [
    "# prepend 1 to (3,2) and it becomes (1,3,2)\n",
    "y.repeat(2, axis=1).reshape((1,3,2))"
   ]
  },
  {
   "cell_type": "code",
   "execution_count": 10,
   "metadata": {},
   "outputs": [
    {
     "data": {
      "text/plain": [
       "array([[[2, 2],\n",
       "        [4, 4],\n",
       "        [6, 6]],\n",
       "\n",
       "       [[2, 2],\n",
       "        [4, 4],\n",
       "        [6, 6]],\n",
       "\n",
       "       [[2, 2],\n",
       "        [4, 4],\n",
       "        [6, 6]],\n",
       "\n",
       "       [[2, 2],\n",
       "        [4, 4],\n",
       "        [6, 6]],\n",
       "\n",
       "       [[2, 2],\n",
       "        [4, 4],\n",
       "        [6, 6]]])"
      ]
     },
     "execution_count": 10,
     "metadata": {},
     "output_type": "execute_result"
    }
   ],
   "source": [
    "# then broadcast (1,3,2) to (5,3,2)\n",
    "y.repeat(2, axis=1).reshape((1,3,2)).repeat(5, axis=0)"
   ]
  },
  {
   "cell_type": "markdown",
   "metadata": {},
   "source": [
    "**`y.repeat(2, axis=1).reshape((1,3,2)).repeat(5, axis=0)` is the same as `x + y`**"
   ]
  },
  {
   "cell_type": "code",
   "execution_count": 11,
   "metadata": {},
   "outputs": [
    {
     "data": {
      "text/plain": [
       "array([[[ 3.,  3.],\n",
       "        [ 5.,  5.],\n",
       "        [ 7.,  7.]],\n",
       "\n",
       "       [[ 3.,  3.],\n",
       "        [ 5.,  5.],\n",
       "        [ 7.,  7.]],\n",
       "\n",
       "       [[ 3.,  3.],\n",
       "        [ 5.,  5.],\n",
       "        [ 7.,  7.]],\n",
       "\n",
       "       [[ 3.,  3.],\n",
       "        [ 5.,  5.],\n",
       "        [ 7.,  7.]],\n",
       "\n",
       "       [[ 3.,  3.],\n",
       "        [ 5.,  5.],\n",
       "        [ 7.,  7.]]])"
      ]
     },
     "execution_count": 11,
     "metadata": {},
     "output_type": "execute_result"
    }
   ],
   "source": [
    "x + y.repeat(2, axis=1).reshape((1,3,2)).repeat(5, axis=0)"
   ]
  },
  {
   "cell_type": "code",
   "execution_count": 12,
   "metadata": {},
   "outputs": [
    {
     "data": {
      "text/plain": [
       "array([[[ 3.,  3.],\n",
       "        [ 5.,  5.],\n",
       "        [ 7.,  7.]],\n",
       "\n",
       "       [[ 3.,  3.],\n",
       "        [ 5.,  5.],\n",
       "        [ 7.,  7.]],\n",
       "\n",
       "       [[ 3.,  3.],\n",
       "        [ 5.,  5.],\n",
       "        [ 7.,  7.]],\n",
       "\n",
       "       [[ 3.,  3.],\n",
       "        [ 5.,  5.],\n",
       "        [ 7.,  7.]],\n",
       "\n",
       "       [[ 3.,  3.],\n",
       "        [ 5.,  5.],\n",
       "        [ 7.,  7.]]])"
      ]
     },
     "execution_count": 12,
     "metadata": {},
     "output_type": "execute_result"
    }
   ],
   "source": [
    "x + y"
   ]
  },
  {
   "cell_type": "code",
   "execution_count": null,
   "metadata": {
    "collapsed": true
   },
   "outputs": [],
   "source": []
  }
 ],
 "metadata": {
  "kernelspec": {
   "display_name": "Python 3",
   "language": "python",
   "name": "python3"
  },
  "language_info": {
   "codemirror_mode": {
    "name": "ipython",
    "version": 3
   },
   "file_extension": ".py",
   "mimetype": "text/x-python",
   "name": "python",
   "nbconvert_exporter": "python",
   "pygments_lexer": "ipython3",
   "version": "3.5.0"
  }
 },
 "nbformat": 4,
 "nbformat_minor": 2
}
